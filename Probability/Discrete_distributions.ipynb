{
  "nbformat": 4,
  "nbformat_minor": 0,
  "metadata": {
    "colab": {
      "provenance": [],
      "authorship_tag": "ABX9TyOUrJnyHOb/1MKoSfTEXgD9",
      "include_colab_link": true
    },
    "kernelspec": {
      "name": "python3",
      "display_name": "Python 3"
    },
    "language_info": {
      "name": "python"
    }
  },
  "cells": [
    {
      "cell_type": "markdown",
      "metadata": {
        "id": "view-in-github",
        "colab_type": "text"
      },
      "source": [
        "<a href=\"https://colab.research.google.com/github/RicardxJMG/Probability-and-Statistics-for-ML/blob/main/Probability/Discrete_distributions.ipynb\" target=\"_parent\"><img src=\"https://colab.research.google.com/assets/colab-badge.svg\" alt=\"Open In Colab\"/></a>"
      ]
    },
    {
      "cell_type": "markdown",
      "source": [
        "# 1. Binomial distribution"
      ],
      "metadata": {
        "id": "wW8crtarhXNX"
      }
    },
    {
      "cell_type": "markdown",
      "source": [
        "The binomial distribution with parameters n and p is the discrete probability distribution of the number of successes in a sequence of n independent experiments\n",
        "</br>\n",
        "Let $X$ a random variable, $k$, $n$ the number of trials and $k$ the sucesses\n",
        "- Probability mass function\n",
        "$$\n",
        "  f(k,p,n) = P(X=k) := \\binom{n}{k}p^k(1-p)^{n-k}\n",
        "$$\n",
        "- Cummulative distribution function\n",
        "$$\n",
        "  F(k,p,n) = P(X\\leq k) := \\sum_{i=1}^{\\lfloor k \\rfloor} \\binom{n}{k} p^k (1-p)^{n-k}\n",
        "$$\n",
        "---"
      ],
      "metadata": {
        "id": "XQ94HeH86_ib"
      }
    },
    {
      "cell_type": "code",
      "execution_count": 25,
      "metadata": {
        "colab": {
          "base_uri": "https://localhost:8080/"
        },
        "id": "AeAWV7cObMHl",
        "outputId": "bf69a586-d769-48c2-92dc-cc4313e4594f"
      },
      "outputs": [
        {
          "output_type": "stream",
          "name": "stdout",
          "text": [
            "Mean: 30.0\n",
            "Variance: 21.0\n"
          ]
        }
      ],
      "source": [
        "from scipy.stats import binom\n",
        "\n",
        "p = 0.3 #$ probability of success\n",
        "k = 100 # number of trials\n",
        "\n",
        "# calculate moments\n",
        "\n",
        "mean, var, _, _ = binom.stats(k,p,moments='mvsk')\n",
        "\n",
        "print(f'Mean: {mean}')\n",
        "print(f'Variance: {var}')"
      ]
    },
    {
      "cell_type": "markdown",
      "source": [
        "Using the probability mass function to calculate the likelihood of different numbers of successeful outcomes for a sequence of trial, such as 10,20 to 100."
      ],
      "metadata": {
        "id": "-9WSRuLIlJ8I"
      }
    },
    {
      "cell_type": "code",
      "source": [
        "# Calculate the probability of n successes\n",
        "dist = binom(k,p)\n",
        "\n",
        "for n in range(10, 110, 10):\n",
        "  print(f'Probability of {n} successes: {dist.pmf(n)*100:.6f}')"
      ],
      "metadata": {
        "colab": {
          "base_uri": "https://localhost:8080/"
        },
        "id": "qvqr1Hf4g5Tb",
        "outputId": "b2ace20b-12ba-4396-f8b6-d2aefa4a1456"
      },
      "execution_count": 26,
      "outputs": [
        {
          "output_type": "stream",
          "name": "stdout",
          "text": [
            "Probability of 10 successes: 0.000117\n",
            "Probability of 20 successes: 0.757564\n",
            "Probability of 30 successes: 8.678386\n",
            "Probability of 40 successes: 0.849017\n",
            "Probability of 50 successes: 0.001303\n",
            "Probability of 60 successes: 0.000000\n",
            "Probability of 70 successes: 0.000000\n",
            "Probability of 80 successes: 0.000000\n",
            "Probability of 90 successes: 0.000000\n",
            "Probability of 100 successes: 0.000000\n"
          ]
        }
      ]
    },
    {
      "cell_type": "markdown",
      "source": [
        "Given the probability of success is 30% for one trial, we would expect that a probability of 50 or fewer successes out of 100 trials to be close to 100%."
      ],
      "metadata": {
        "id": "SclWH8WBdW9X"
      }
    },
    {
      "cell_type": "code",
      "source": [
        "# Calculate the probability of <= n\n",
        "for n in range(10,110,10):\n",
        "  print(f'Probability of <= {n} successes: {dist.cdf(n):.5f}')"
      ],
      "metadata": {
        "colab": {
          "base_uri": "https://localhost:8080/"
        },
        "id": "6OSl5oD6mQzQ",
        "outputId": "2b46c5ee-cb4f-4e0b-cfdc-f2dc460a3e98"
      },
      "execution_count": 27,
      "outputs": [
        {
          "output_type": "stream",
          "name": "stdout",
          "text": [
            "Probability of <= 10 successes: 0.00000\n",
            "Probability of <= 20 successes: 0.01646\n",
            "Probability of <= 30 successes: 0.54912\n",
            "Probability of <= 40 successes: 0.98750\n",
            "Probability of <= 50 successes: 0.99999\n",
            "Probability of <= 60 successes: 1.00000\n",
            "Probability of <= 70 successes: 1.00000\n",
            "Probability of <= 80 successes: 1.00000\n",
            "Probability of <= 90 successes: 1.00000\n",
            "Probability of <= 100 successes: 1.00000\n"
          ]
        }
      ]
    },
    {
      "cell_type": "markdown",
      "source": [
        "Plot of the binomial distribution, with probability of 0.3 and 50 trials."
      ],
      "metadata": {
        "id": "Svt0D5TE0fUi"
      }
    },
    {
      "cell_type": "code",
      "source": [
        "import matplotlib.pyplot as plt\n",
        "import numpy as np\n",
        "\n",
        "k_plot = 50\n",
        "p_plot = 0.2\n",
        "\n",
        "dist_plot = binom(k_plot, p_plot)\n",
        "\n",
        "x = np.arange(0, k_plot + 1)\n",
        "\n",
        "# Calculate the probability mass function (PMF) for each x value\n",
        "y = dist_plot.pmf(x)\n",
        "\n",
        "# Plot the distribution\n",
        "plt.plot(x, y, 'bo')\n",
        "plt.title('Binomial Distribution (n=50, p=0.2)')\n",
        "plt.xlabel('Number of Successes')\n",
        "plt.ylabel('Probability')\n",
        "plt.grid(True)\n",
        "plt.show()"
      ],
      "metadata": {
        "colab": {
          "base_uri": "https://localhost:8080/",
          "height": 472
        },
        "id": "bkFtSokUtOt7",
        "outputId": "b876c606-ca65-407f-efe4-4583dd021394"
      },
      "execution_count": 28,
      "outputs": [
        {
          "output_type": "display_data",
          "data": {
            "text/plain": [
              "<Figure size 640x480 with 1 Axes>"
            ],
            "image/png": "[encoded data removed]"
          },
          "metadata": {}
        }
      ]
    },
    {
      "cell_type": "markdown",
      "source": [
        "# 2. Multinomial Distributions"
      ],
      "metadata": {
        "id": "RFaTNz9x4wV_"
      }
    },
    {
      "cell_type": "markdown",
      "source": [
        "The multinomial distribution, also called categorical distribution, is a generalization of the binomial distribution, i.e, cover the case where there are $r$ possible outcomes.\n",
        "\n",
        "\n",
        "---"
      ],
      "metadata": {
        "id": "3-goG_y65FEO"
      }
    },
    {
      "cell_type": "markdown",
      "source": [
        "Suposse we have only categories with equal probability $33.33\\%$ and $100$ trials"
      ],
      "metadata": {
        "id": "A7bMx2DI9L7d"
      }
    },
    {
      "cell_type": "code",
      "source": [
        "from scipy.stats import multinomial\n",
        "\n",
        "p = [1.0/3.0, 1.0/3.0, 1.0/3.0] # probability of success\n",
        "k = 100 # number of trials\n",
        "\n",
        "dist_multinomial = multinomial(k,p)\n",
        "\n",
        "# Define a specific number of aoutcomes  from 100 trials\n",
        "cases = [33,33,34]\n",
        "\n",
        "pr = dist_multinomial.pmf(cases)\n",
        "\n",
        "print(f'Probability of cases {cases}: {pr*100}')"
      ],
      "metadata": {
        "colab": {
          "base_uri": "https://localhost:8080/"
        },
        "id": "9KuYWdeP9MBM",
        "outputId": "5e82212e-6cb3-4669-c463-c0fe8ac20728"
      },
      "execution_count": 41,
      "outputs": [
        {
          "output_type": "stream",
          "name": "stdout",
          "text": [
            "Probability of cases [33, 33, 34]: 0.8134712430415981\n"
          ]
        }
      ]
    }
  ]
}