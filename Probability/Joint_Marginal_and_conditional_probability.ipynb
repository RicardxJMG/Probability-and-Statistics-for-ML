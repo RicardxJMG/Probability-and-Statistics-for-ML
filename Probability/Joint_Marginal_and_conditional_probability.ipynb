{
  "nbformat": 4,
  "nbformat_minor": 0,
  "metadata": {
    "colab": {
      "provenance": [],
      "authorship_tag": "ABX9TyPWwqiqNenLcyVw4VOxXCnE",
      "include_colab_link": true
    },
    "kernelspec": {
      "name": "python3",
      "display_name": "Python 3"
    },
    "language_info": {
      "name": "python"
    }
  },
  "cells": [
    {
      "cell_type": "markdown",
      "metadata": {
        "id": "view-in-github",
        "colab_type": "text"
      },
      "source": [
        "<a href=\"https://colab.research.google.com/github/RicardxJMG/Probability-and-Statistics-for-ML/blob/main/Probability/Joint_Marginal_and_conditional_probability.ipynb\" target=\"_parent\"><img src=\"https://colab.research.google.com/assets/colab-badge.svg\" alt=\"Open In Colab\"/></a>"
      ]
    },
    {
      "cell_type": "markdown",
      "source": [
        "## Birthday problem"
      ],
      "metadata": {
        "id": "FuuluxYUEosL"
      }
    },
    {
      "cell_type": "markdown",
      "source": [
        "**Problem** How many people are requiered so that any two people in the group have the same birthday with at least a 50-50 chance?"
      ],
      "metadata": {
        "id": "WEJ3Wqtpyvc1"
      }
    },
    {
      "cell_type": "markdown",
      "source": [
        "Step to solve the problem:\n",
        "  1. Instead to calculate the solution, we can think about comparing pairs of peopple within a group and the probability of being born on the same data. The number of comparisons (excluding comparing with themselves) is $n\\frac{n(n=1)}{2}$.\n",
        "  2. We calcutate the inverse problem. That is, the probability that two people in a group don't have the same birthdays, e.g,\n",
        "  $$\n",
        "    P(\\text{2 in n same birthday}) = 1 - P(\\text{2 in n not same birthday})\n",
        "  $$\n",
        "  3. People can adedd to the group one-by-one. Each time a person is added to the group, it decreases the number of available days. Additionally, the probability of non-match for a given additional person added to the group must be combined with the prior probabilities before it."
      ],
      "metadata": {
        "id": "akHSvjZlJ8fV"
      }
    },
    {
      "cell_type": "code",
      "source": [
        "n = 30\n",
        "days = 365 # excluding leap year\n",
        "probability = 1\n",
        "for i in range(1,n):\n",
        "  av = days - i\n",
        "  probability*= av/days\n",
        "  print(f'n =  {i+1},  {av}, p= {100*probability:.2f}, 1-p= {100*(1-probability):2f}')"
      ],
      "metadata": {
        "colab": {
          "base_uri": "https://localhost:8080/"
        },
        "id": "8Wtx0BCL54c8",
        "outputId": "2cb2c49e-bc2a-42d8-e554-e3eec133f8d5"
      },
      "execution_count": null,
      "outputs": [
        {
          "output_type": "stream",
          "name": "stdout",
          "text": [
            "n =  2,  364, p= 99.73, 1-p= 0.273973\n",
            "n =  3,  363, p= 99.18, 1-p= 0.820417\n",
            "n =  4,  362, p= 98.36, 1-p= 1.635591\n",
            "n =  5,  361, p= 97.29, 1-p= 2.713557\n",
            "n =  6,  360, p= 95.95, 1-p= 4.046248\n",
            "n =  7,  359, p= 94.38, 1-p= 5.623570\n",
            "n =  8,  358, p= 92.57, 1-p= 7.433529\n",
            "n =  9,  357, p= 90.54, 1-p= 9.462383\n",
            "n =  10,  356, p= 88.31, 1-p= 11.694818\n",
            "n =  11,  355, p= 85.89, 1-p= 14.114138\n",
            "n =  12,  354, p= 83.30, 1-p= 16.702479\n",
            "n =  13,  353, p= 80.56, 1-p= 19.441028\n",
            "n =  14,  352, p= 77.69, 1-p= 22.310251\n",
            "n =  15,  351, p= 74.71, 1-p= 25.290132\n",
            "n =  16,  350, p= 71.64, 1-p= 28.360401\n",
            "n =  17,  349, p= 68.50, 1-p= 31.500767\n",
            "n =  18,  348, p= 65.31, 1-p= 34.691142\n",
            "n =  19,  347, p= 62.09, 1-p= 37.911853\n",
            "n =  20,  346, p= 58.86, 1-p= 41.143838\n",
            "n =  21,  345, p= 55.63, 1-p= 44.368834\n",
            "n =  22,  344, p= 52.43, 1-p= 47.569531\n",
            "n =  23,  343, p= 49.27, 1-p= 50.729723\n",
            "n =  24,  342, p= 46.17, 1-p= 53.834426\n",
            "n =  25,  341, p= 43.13, 1-p= 56.869970\n",
            "n =  26,  340, p= 40.18, 1-p= 59.824082\n",
            "n =  27,  339, p= 37.31, 1-p= 62.685928\n",
            "n =  28,  338, p= 34.55, 1-p= 65.446147\n",
            "n =  29,  337, p= 31.90, 1-p= 68.096854\n",
            "n =  30,  336, p= 29.37, 1-p= 70.631624\n"
          ]
        }
      ]
    },
    {
      "cell_type": "markdown",
      "source": [
        "> We need just 23 people to have more than a 50-50 chance\n",
        "\n",
        "\n"
      ],
      "metadata": {
        "id": "BuBJZtROnbD2"
      }
    }
  ]
}